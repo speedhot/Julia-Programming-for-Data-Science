{
  "nbformat": 4,
  "nbformat_minor": 0,
  "metadata": {
    "accelerator": "GPU",
    "colab": {
      "name": "julia_in_colab.ipynb",
      "provenance": [],
      "collapsed_sections": []
    },
    "kernelspec": {
      "display_name": "Julia 1.3",
      "language": "julia",
      "name": "julia-1.3"
    },
    "language_info": {
      "file_extension": ".jl",
      "mimetype": "application/julia",
      "name": "julia",
      "version": "1.3"
    }
  },
  "cells": [
    {
      "cell_type": "code",
      "metadata": {
        "colab_type": "code",
        "id": "PMGwZ7aFJL8Y",
        "outputId": "f4bba2f9-2643-440b-98a6-a450fb9982b7",
        "colab": {
          "base_uri": "https://localhost:8080/",
          "height": 1000
        }
      },
      "source": [
        "# Installation cell\n",
        "%%shell\n",
        "if ! command -v julia 3>&1 > /dev/null\n",
        "then\n",
        "    wget 'https://julialang-s3.julialang.org/bin/linux/x64/1.3/julia-1.3.1-linux-x86_64.tar.gz' \\\n",
        "        -O /tmp/julia.tar.gz\n",
        "    tar -x -f /tmp/julia.tar.gz -C /usr/local --strip-components 1\n",
        "    rm /tmp/julia.tar.gz\n",
        "fi\n",
        "julia -e 'using Pkg; pkg\"add IJulia; precompile;\"'\n",
        "echo 'Done'"
      ],
      "execution_count": 0,
      "outputs": [
        {
          "output_type": "stream",
          "text": [
            "--2020-05-05 11:38:51--  https://julialang-s3.julialang.org/bin/linux/x64/1.3/julia-1.3.1-linux-x86_64.tar.gz\n",
            "Resolving julialang-s3.julialang.org (julialang-s3.julialang.org)... 151.101.2.49, 151.101.66.49, 151.101.130.49, ...\n",
            "Connecting to julialang-s3.julialang.org (julialang-s3.julialang.org)|151.101.2.49|:443... connected.\n",
            "HTTP request sent, awaiting response... 302 gce internal redirect trigger\n",
            "Location: https://storage.googleapis.com/julialang2/bin/linux/x64/1.3/julia-1.3.1-linux-x86_64.tar.gz [following]\n",
            "--2020-05-05 11:38:51--  https://storage.googleapis.com/julialang2/bin/linux/x64/1.3/julia-1.3.1-linux-x86_64.tar.gz\n",
            "Resolving storage.googleapis.com (storage.googleapis.com)... 74.125.204.128, 2404:6800:4008:c00::80\n",
            "Connecting to storage.googleapis.com (storage.googleapis.com)|74.125.204.128|:443... connected.\n",
            "HTTP request sent, awaiting response... 200 OK\n",
            "Length: 95929584 (91M) [application/x-gzip]\n",
            "Saving to: ‘/tmp/julia.tar.gz’\n",
            "\n",
            "/tmp/julia.tar.gz   100%[===================>]  91.49M  41.8MB/s    in 2.2s    \n",
            "\n",
            "2020-05-05 11:38:54 (41.8 MB/s) - ‘/tmp/julia.tar.gz’ saved [95929584/95929584]\n",
            "\n",
            "   Cloning default registries into `~/.julia`\n",
            "   Cloning registry from \"https://github.com/JuliaRegistries/General.git\"\n",
            "\u001b[2K\u001b[?25h     Added registry `General` to `~/.julia/registries/General`\n",
            " Resolving package versions...\n",
            " Installed MbedTLS_jll ───── v2.16.0+2\n",
            " Installed VersionParsing ── v1.2.0\n",
            " Installed SoftGlobalScope ─ v1.0.10\n",
            " Installed ZMQ ───────────── v1.2.0\n",
            " Installed Conda ─────────── v1.4.1\n",
            " Installed Parsers ───────── v1.0.2\n",
            " Installed IJulia ────────── v1.21.2\n",
            " Installed MbedTLS ───────── v1.0.2\n",
            " Installed ZeroMQ_jll ────── v4.3.2+2\n",
            " Installed JSON ──────────── v0.21.0\n",
            "  Updating `~/.julia/environments/v1.3/Project.toml`\n",
            "  [7073ff75] + IJulia v1.21.2\n",
            "  Updating `~/.julia/environments/v1.3/Manifest.toml`\n",
            "  [8f4d0f93] + Conda v1.4.1\n",
            "  [7073ff75] + IJulia v1.21.2\n",
            "  [682c06a0] + JSON v0.21.0\n",
            "  [739be429] + MbedTLS v1.0.2\n",
            "  [c8ffd9c3] + MbedTLS_jll v2.16.0+2\n",
            "  [69de0a69] + Parsers v1.0.2\n",
            "  [b85f4697] + SoftGlobalScope v1.0.10\n",
            "  [81def892] + VersionParsing v1.2.0\n",
            "  [c2297ded] + ZMQ v1.2.0\n",
            "  [8f1865be] + ZeroMQ_jll v4.3.2+2\n",
            "  [2a0f44e3] + Base64 \n",
            "  [ade2ca70] + Dates \n",
            "  [8ba89e20] + Distributed \n",
            "  [7b1f6079] + FileWatching \n",
            "  [b77e0a4c] + InteractiveUtils \n",
            "  [76f85450] + LibGit2 \n",
            "  [8f399da3] + Libdl \n",
            "  [56ddb016] + Logging \n",
            "  [d6f4376e] + Markdown \n",
            "  [a63ad114] + Mmap \n",
            "  [44cfe95a] + Pkg \n",
            "  [de0858da] + Printf \n",
            "  [3fa0cd96] + REPL \n",
            "  [9a3f8284] + Random \n",
            "  [ea8e919c] + SHA \n",
            "  [9e88b42a] + Serialization \n",
            "  [6462fe0b] + Sockets \n",
            "  [8dfed614] + Test \n",
            "  [cf7118a7] + UUIDs \n",
            "  [4ec0a83e] + Unicode \n",
            "  Building Conda ─→ `~/.julia/packages/Conda/3rPhK/deps/build.log`\n",
            "  Building IJulia → `~/.julia/packages/IJulia/DrVMH/deps/build.log`\n",
            "Precompiling project...\n",
            "Precompiling IJulia\n",
            "Done\n"
          ],
          "name": "stdout"
        },
        {
          "output_type": "execute_result",
          "data": {
            "text/plain": [
              ""
            ]
          },
          "metadata": {
            "tags": []
          },
          "execution_count": 1
        }
      ]
    },
    {
      "cell_type": "markdown",
      "metadata": {
        "colab_type": "text",
        "id": "XdMpcQduyaQc"
      },
      "source": [
        "After running the above cell\n",
        "<br>Go to -----> **Edit Menu**<br>\n",
        "                      Choose----------> **Notebook Steetings**<br>\n",
        "Choose------------------------ **Runtime type** as **Julia 1.3**<br>\n",
        "and Choose------------------ **Hardware accelerator** as **GPU**<br>\n",
        "click on--------------------------------------------**SAVE**\n",
        "<br/>\n",
        "\n",
        "\n"
      ]
    },
    {
      "cell_type": "code",
      "metadata": {
        "colab_type": "code",
        "id": "iIxu4TjlJnBG",
        "outputId": "3771b451-cc45-4d44-c2f9-238327cb05cc",
        "colab": {
          "base_uri": "https://localhost:8080/",
          "height": 1000
        }
      },
      "source": [
        "#Julia 1.3 Environment\n",
        "using Pkg\n",
        "pkg\"add BenchmarkTools; precompile;\"\n",
        "pkg\"add CuArrays; precompile;\""
      ],
      "execution_count": 0,
      "outputs": [
        {
          "output_type": "stream",
          "text": [
            "\u001b[32m\u001b[1m  Updating\u001b[22m\u001b[39m registry at `~/.julia/registries/General`\n",
            "\u001b[32m\u001b[1m  Updating\u001b[22m\u001b[39m git-repo `https://github.com/JuliaRegistries/General.git`\n",
            "\u001b[?25l\u001b[2K\u001b[?25h\u001b[32m\u001b[1m Resolving\u001b[22m\u001b[39m package versions...\n",
            "\u001b[32m\u001b[1m Installed\u001b[22m\u001b[39m BenchmarkTools ─ v0.5.0\n",
            "\u001b[32m\u001b[1m  Updating\u001b[22m\u001b[39m `~/.julia/environments/v1.3/Project.toml`\n",
            " \u001b[90m [6e4b80f9]\u001b[39m\u001b[92m + BenchmarkTools v0.5.0\u001b[39m\n",
            "\u001b[32m\u001b[1m  Updating\u001b[22m\u001b[39m `~/.julia/environments/v1.3/Manifest.toml`\n",
            " \u001b[90m [6e4b80f9]\u001b[39m\u001b[92m + BenchmarkTools v0.5.0\u001b[39m\n",
            " \u001b[90m [37e2e46d]\u001b[39m\u001b[92m + LinearAlgebra \u001b[39m\n",
            " \u001b[90m [2f01184e]\u001b[39m\u001b[92m + SparseArrays \u001b[39m\n",
            " \u001b[90m [10745b16]\u001b[39m\u001b[92m + Statistics \u001b[39m\n",
            "\u001b[32m\u001b[1mPrecompiling\u001b[22m\u001b[39m project...\n",
            "\u001b[32m\u001b[1mPrecompiling\u001b[22m\u001b[39m BenchmarkTools\n"
          ],
          "name": "stdout"
        },
        {
          "output_type": "stream",
          "text": [
            "┌ Info: Precompiling BenchmarkTools [6e4b80f9-dd63-53aa-95a3-0cdb28fa8baf]\n",
            "└ @ Base loading.jl:1273\n"
          ],
          "name": "stderr"
        },
        {
          "output_type": "stream",
          "text": [
            "\u001b[32m\u001b[1m Resolving\u001b[22m\u001b[39m package versions...\n",
            "\u001b[32m\u001b[1m Installed\u001b[22m\u001b[39m TimerOutputs ─────── v0.5.5\n",
            "\u001b[32m\u001b[1m Installed\u001b[22m\u001b[39m Cthulhu ──────────── v1.0.2\n",
            "\u001b[32m\u001b[1m Installed\u001b[22m\u001b[39m Requires ─────────── v1.0.1\n",
            "\u001b[32m\u001b[1m Installed\u001b[22m\u001b[39m MacroTools ───────── v0.5.5\n",
            "\u001b[32m\u001b[1m Installed\u001b[22m\u001b[39m NNlib ────────────── v0.6.6\n",
            "\u001b[32m\u001b[1m Installed\u001b[22m\u001b[39m DataStructures ───── v0.17.15\n",
            "\u001b[32m\u001b[1m Installed\u001b[22m\u001b[39m GPUArrays ────────── v3.2.0\n",
            "\u001b[32m\u001b[1m Installed\u001b[22m\u001b[39m CuArrays ─────────── v2.1.0\n",
            "\u001b[32m\u001b[1m Installed\u001b[22m\u001b[39m CEnum ────────────── v0.2.0\n",
            "\u001b[32m\u001b[1m Installed\u001b[22m\u001b[39m CUDAapi ──────────── v4.0.0\n",
            "\u001b[32m\u001b[1m Installed\u001b[22m\u001b[39m CodeTracking ─────── v0.5.11\n",
            "\u001b[32m\u001b[1m Installed\u001b[22m\u001b[39m ExprTools ────────── v0.1.1\n",
            "\u001b[32m\u001b[1m Installed\u001b[22m\u001b[39m AbstractFFTs ─────── v0.5.0\n",
            "\u001b[32m\u001b[1m Installed\u001b[22m\u001b[39m Reexport ─────────── v0.2.0\n",
            "\u001b[32m\u001b[1m Installed\u001b[22m\u001b[39m Adapt ────────────── v1.0.1\n",
            "\u001b[32m\u001b[1m Installed\u001b[22m\u001b[39m LLVM ─────────────── v1.4.0\n",
            "\u001b[32m\u001b[1m Installed\u001b[22m\u001b[39m OrderedCollections ─ v1.1.0\n",
            "\u001b[32m\u001b[1m Installed\u001b[22m\u001b[39m BinaryProvider ───── v0.5.9\n",
            "\u001b[32m\u001b[1m Installed\u001b[22m\u001b[39m CUDAdrv ──────────── v6.2.3\n",
            "\u001b[32m\u001b[1m Installed\u001b[22m\u001b[39m CUDAnative ───────── v3.0.4\n",
            "\u001b[32m\u001b[1m  Updating\u001b[22m\u001b[39m `~/.julia/environments/v1.3/Project.toml`\n",
            " \u001b[90m [3a865a2d]\u001b[39m\u001b[92m + CuArrays v2.1.0\u001b[39m\n",
            "\u001b[32m\u001b[1m  Updating\u001b[22m\u001b[39m `~/.julia/environments/v1.3/Manifest.toml`\n",
            " \u001b[90m [621f4979]\u001b[39m\u001b[92m + AbstractFFTs v0.5.0\u001b[39m\n",
            " \u001b[90m [79e6a3ab]\u001b[39m\u001b[92m + Adapt v1.0.1\u001b[39m\n",
            " \u001b[90m [b99e7846]\u001b[39m\u001b[92m + BinaryProvider v0.5.9\u001b[39m\n",
            " \u001b[90m [fa961155]\u001b[39m\u001b[92m + CEnum v0.2.0\u001b[39m\n",
            " \u001b[90m [3895d2a7]\u001b[39m\u001b[92m + CUDAapi v4.0.0\u001b[39m\n",
            " \u001b[90m [c5f51814]\u001b[39m\u001b[92m + CUDAdrv v6.2.3\u001b[39m\n",
            " \u001b[90m [be33ccc6]\u001b[39m\u001b[92m + CUDAnative v3.0.4\u001b[39m\n",
            " \u001b[90m [da1fd8a2]\u001b[39m\u001b[92m + CodeTracking v0.5.11\u001b[39m\n",
            " \u001b[90m [f68482b8]\u001b[39m\u001b[92m + Cthulhu v1.0.2\u001b[39m\n",
            " \u001b[90m [3a865a2d]\u001b[39m\u001b[92m + CuArrays v2.1.0\u001b[39m\n",
            " \u001b[90m [864edb3b]\u001b[39m\u001b[92m + DataStructures v0.17.15\u001b[39m\n",
            " \u001b[90m [e2ba6199]\u001b[39m\u001b[92m + ExprTools v0.1.1\u001b[39m\n",
            " \u001b[90m [0c68f7d7]\u001b[39m\u001b[92m + GPUArrays v3.2.0\u001b[39m\n",
            " \u001b[90m [929cbde3]\u001b[39m\u001b[92m + LLVM v1.4.0\u001b[39m\n",
            " \u001b[90m [1914dd2f]\u001b[39m\u001b[92m + MacroTools v0.5.5\u001b[39m\n",
            " \u001b[90m [872c559c]\u001b[39m\u001b[92m + NNlib v0.6.6\u001b[39m\n",
            " \u001b[90m [bac558e1]\u001b[39m\u001b[92m + OrderedCollections v1.1.0\u001b[39m\n",
            " \u001b[90m [189a3867]\u001b[39m\u001b[92m + Reexport v0.2.0\u001b[39m\n",
            " \u001b[90m [ae029012]\u001b[39m\u001b[92m + Requires v1.0.1\u001b[39m\n",
            " \u001b[90m [a759f4b9]\u001b[39m\u001b[92m + TimerOutputs v0.5.5\u001b[39m\n",
            "\u001b[32m\u001b[1m  Building\u001b[22m\u001b[39m NNlib → `~/.julia/packages/NNlib/FAI3o/deps/build.log`\n",
            "\u001b[32m\u001b[1mPrecompiling\u001b[22m\u001b[39m project...\n",
            "\u001b[32m\u001b[1mPrecompiling\u001b[22m\u001b[39m CuArrays\n"
          ],
          "name": "stdout"
        },
        {
          "output_type": "stream",
          "text": [
            "┌ Info: Precompiling CuArrays [3a865a2d-5b23-5a0f-bc46-62713ec82fae]\n",
            "└ @ Base loading.jl:1273\n"
          ],
          "name": "stderr"
        }
      ]
    },
    {
      "cell_type": "markdown",
      "metadata": {
        "colab_type": "text",
        "id": "rR7Ox6Ax0ypi"
      },
      "source": [
        "The main reason we are interested in running Julia on Colab is the GPU functionality. "
      ]
    },
    {
      "cell_type": "code",
      "metadata": {
        "id": "IP5pYzJKAwOX",
        "colab_type": "code",
        "colab": {
          "base_uri": "https://localhost:8080/",
          "height": 34
        },
        "outputId": "3d2180ae-8b3c-4433-80c0-14a0475c7c99"
      },
      "source": [
        "3*4"
      ],
      "execution_count": 2,
      "outputs": [
        {
          "output_type": "execute_result",
          "data": {
            "text/plain": [
              "12"
            ]
          },
          "metadata": {
            "tags": []
          },
          "execution_count": 2
        }
      ]
    },
    {
      "cell_type": "code",
      "metadata": {
        "id": "Me-hVEovp33Z",
        "colab_type": "code",
        "outputId": "2d7c4854-5c28-4df1-84b1-ddf4543d64ff",
        "colab": {
          "base_uri": "https://localhost:8080/",
          "height": 35
        }
      },
      "source": [
        "3"
      ],
      "execution_count": 0,
      "outputs": [
        {
          "output_type": "execute_result",
          "data": {
            "text/plain": [
              "3"
            ]
          },
          "metadata": {
            "tags": []
          },
          "execution_count": 4
        }
      ]
    },
    {
      "cell_type": "code",
      "metadata": {
        "id": "44OpbqQBqdE6",
        "colab_type": "code",
        "outputId": "70b2d314-39eb-4405-8082-082ebfbfbb67",
        "colab": {
          "base_uri": "https://localhost:8080/",
          "height": 164
        }
      },
      "source": [
        "versioninfo()"
      ],
      "execution_count": 0,
      "outputs": [
        {
          "output_type": "stream",
          "text": [
            "Julia Version 1.3.1\n",
            "Commit 2d5741174c (2019-12-30 21:36 UTC)\n",
            "Platform Info:\n",
            "  OS: Linux (x86_64-pc-linux-gnu)\n",
            "  CPU: Intel(R) Xeon(R) CPU @ 2.30GHz\n",
            "  WORD_SIZE: 64\n",
            "  LIBM: libopenlibm\n",
            "  LLVM: libLLVM-6.0.1 (ORCJIT, haswell)\n"
          ],
          "name": "stdout"
        }
      ]
    }
  ]
}